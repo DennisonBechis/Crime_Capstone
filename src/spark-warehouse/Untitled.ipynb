{
 "cells": [
  {
   "cell_type": "code",
   "execution_count": 20,
   "metadata": {},
   "outputs": [
    {
     "ename": "ModuleNotFoundError",
     "evalue": "No module named 'folium'",
     "output_type": "error",
     "traceback": [
      "\u001b[0;31m---------------------------------------------------------------------------\u001b[0m",
      "\u001b[0;31mModuleNotFoundError\u001b[0m                       Traceback (most recent call last)",
      "\u001b[0;32m<ipython-input-20-1c312d1ca598>\u001b[0m in \u001b[0;36m<module>\u001b[0;34m\u001b[0m\n\u001b[1;32m      3\u001b[0m \u001b[0;32mimport\u001b[0m \u001b[0mpandas\u001b[0m \u001b[0;32mas\u001b[0m \u001b[0mpd\u001b[0m\u001b[0;34m\u001b[0m\u001b[0;34m\u001b[0m\u001b[0m\n\u001b[1;32m      4\u001b[0m \u001b[0;32mimport\u001b[0m \u001b[0mnumpy\u001b[0m \u001b[0;32mas\u001b[0m \u001b[0mnp\u001b[0m\u001b[0;34m\u001b[0m\u001b[0;34m\u001b[0m\u001b[0m\n\u001b[0;32m----> 5\u001b[0;31m \u001b[0;32mimport\u001b[0m \u001b[0mfolium\u001b[0m\u001b[0;34m\u001b[0m\u001b[0;34m\u001b[0m\u001b[0m\n\u001b[0m\u001b[1;32m      6\u001b[0m spark = (ps.sql.SparkSession.builder \n\u001b[1;32m      7\u001b[0m         \u001b[0;34m.\u001b[0m\u001b[0mmaster\u001b[0m\u001b[0;34m(\u001b[0m\u001b[0;34m\"local[4]\"\u001b[0m\u001b[0;34m)\u001b[0m\u001b[0;34m\u001b[0m\u001b[0;34m\u001b[0m\u001b[0m\n",
      "\u001b[0;31mModuleNotFoundError\u001b[0m: No module named 'folium'"
     ]
    }
   ],
   "source": [
    "from pyspark.sql.types import StructType, StructField, IntegerType, StringType, FloatType, DateType\n",
    "import pyspark as ps\n",
    "import pandas as pd\n",
    "import numpy as np\n",
    "spark = (ps.sql.SparkSession.builder \n",
    "        .master(\"local[4]\") \n",
    "        .appName(\"sparkSQL exercise\") \n",
    "        .getOrCreate()\n",
    "        )"
   ]
  },
  {
   "cell_type": "code",
   "execution_count": 16,
   "metadata": {},
   "outputs": [
    {
     "name": "stdout",
     "output_type": "stream",
     "text": [
      "root\n",
      " |-- _c0: string (nullable = true)\n",
      " |-- _c1: string (nullable = true)\n",
      " |-- _c2: string (nullable = true)\n",
      " |-- _c3: string (nullable = true)\n",
      " |-- _c4: string (nullable = true)\n",
      " |-- _c5: string (nullable = true)\n",
      " |-- _c6: string (nullable = true)\n",
      "\n"
     ]
    }
   ],
   "source": [
    "Crime_df = spark.read.csv('../data/Crime.csv')\n",
    "Crime_df.printSchema()\n",
    "Crime_df.createOrReplaceTempView('Crime')"
   ]
  },
  {
   "cell_type": "code",
   "execution_count": 17,
   "metadata": {},
   "outputs": [
    {
     "name": "stdout",
     "output_type": "stream",
     "text": [
      "+--------------------+------------------+--------+---------+--------------------+--------------------+------------------+\n",
      "|                 _c0|               _c1|     _c2|      _c3|                 _c4|                 _c5|               _c6|\n",
      "+--------------------+------------------+--------+---------+--------------------+--------------------+------------------+\n",
      "|                   X|                 Y|OBJECTID|REPORTNUM|          REPORTDATE|            BLOCKADD|           OFFENSE|\n",
      "|-105.237351829018792| 40.00268859153725|23581055|080003563|2008-03-17T07:00:...| 700 Block Mohawk Dr|Theft From Vehicle|\n",
      "|-105.268787155469141|40.000966478110769|23581056|120010002|2012-07-26T07:00:...|   700 Block 19th St|          Burglary|\n",
      "|-105.248683839763473|40.007343035232736|23581057|090012759|2009-10-01T07:00:...|3400 Block Colora...|Theft From Vehicle|\n",
      "|-105.245068357341395|40.019326006252967|23581058|120005765|2012-04-30T07:00:...|3800 Block Walnut St|          Burglary|\n",
      "|-105.262339749565413|40.031072931806357|23581059|080011647|2008-08-28T07:00:...|2600 Block Fremon...|Theft From Vehicle|\n",
      "|-105.280961288432749|40.008674559568938|23581060|090009159|2009-07-22T07:00:...|900 Block Pennsyl...|          Burglary|\n",
      "|-105.242524202128806|40.014636141224685|23581061|080008187|2008-06-20T07:00:...|4100 Block Arapah...|        Auto Theft|\n",
      "|-105.276359527243073|40.017555954960436|23581062|100014399|2010-11-21T07:00:...|1400 Block Walnut St|       Trespassing|\n",
      "|-105.243095119280781|40.031445352601772|23581063|110009678|2011-08-01T07:00:...|  3100 Block Bell Dr|          Burglary|\n",
      "+--------------------+------------------+--------+---------+--------------------+--------------------+------------------+\n",
      "\n"
     ]
    }
   ],
   "source": [
    "results = spark.sql(\"\"\" Select * from Crime limit 10\"\"\")\n",
    "results.show()"
   ]
  },
  {
   "cell_type": "code",
   "execution_count": 18,
   "metadata": {},
   "outputs": [
    {
     "name": "stdout",
     "output_type": "stream",
     "text": [
      "+------------------+--------+\n",
      "|               _c6|count(1)|\n",
      "+------------------+--------+\n",
      "|  Motorcycle Theft|     313|\n",
      "|           OFFENSE|       1|\n",
      "| Indecent Exposure|     309|\n",
      "|           Assault|    1325|\n",
      "|           Robbery|     473|\n",
      "|Theft From Vehicle|    5683|\n",
      "|Theft Of Car Parts|     236|\n",
      "|          Homicide|      21|\n",
      "|       Trespassing|    5555|\n",
      "|          Incident|    2576|\n",
      "|          Burglary|    6447|\n",
      "|         Indecency|      53|\n",
      "|       Sex Assault|    1096|\n",
      "|        Auto Theft|    1531|\n",
      "|         Vandalism|    9586|\n",
      "|          Recovery|     282|\n",
      "+------------------+--------+\n",
      "\n"
     ]
    }
   ],
   "source": [
    "result = spark.sql(\"\"\" Select _c6, count(*) from Crime group by _c6\"\"\")\n",
    "result.show()"
   ]
  },
  {
   "cell_type": "code",
   "execution_count": 19,
   "metadata": {},
   "outputs": [
    {
     "name": "stdout",
     "output_type": "stream",
     "text": [
      "root\n",
      " |-- _c0: string (nullable = true)\n",
      " |-- _c1: string (nullable = true)\n",
      " |-- _c2: string (nullable = true)\n",
      " |-- _c3: string (nullable = true)\n",
      " |-- _c4: string (nullable = true)\n",
      " |-- _c5: string (nullable = true)\n",
      " |-- _c6: string (nullable = true)\n",
      "\n"
     ]
    }
   ],
   "source": [
    "Crime_df.printSchema()"
   ]
  },
  {
   "cell_type": "code",
   "execution_count": null,
   "metadata": {},
   "outputs": [],
   "source": []
  }
 ],
 "metadata": {
  "kernelspec": {
   "display_name": "Python 3",
   "language": "python",
   "name": "python3"
  },
  "language_info": {
   "codemirror_mode": {
    "name": "ipython",
    "version": 3
   },
   "file_extension": ".py",
   "mimetype": "text/x-python",
   "name": "python",
   "nbconvert_exporter": "python",
   "pygments_lexer": "ipython3",
   "version": "3.7.3"
  }
 },
 "nbformat": 4,
 "nbformat_minor": 4
}
